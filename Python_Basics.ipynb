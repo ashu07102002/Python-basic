{
  "nbformat": 4,
  "nbformat_minor": 0,
  "metadata": {
    "colab": {
      "provenance": []
    },
    "kernelspec": {
      "name": "python3",
      "display_name": "Python 3"
    },
    "language_info": {
      "name": "python"
    }
  },
  "cells": [
    {
      "cell_type": "markdown",
      "source": [
        "Python Basics"
      ],
      "metadata": {
        "id": "q6gU_X8j2byy"
      }
    },
    {
      "cell_type": "markdown",
      "source": [
        "Theroritical Questions-Answer"
      ],
      "metadata": {
        "id": "RG27gmVRLqgw"
      }
    },
    {
      "cell_type": "markdown",
      "source": [
        "1. What is Python, and why is it popular?\n",
        "  - Python is a high-level programming language that is easy to read and write. It was created by Guido van Rossum and first released in 1991.\n",
        "It is popular because of its below features:-\n",
        "(i) Easy to learn - The syntax is simple and looks like English.\n",
        "(ii) Used in many areas - Like web development, data science, and automation.\n",
        "(iii) Free and open-source - Anyone can use and share it.\n",
        "(iv) Lots of libraries - Tools are available for almost everything.\n",
        "(v) Big community - Help is easy to find online.\n",
        "\n",
        "2. What is an interpreter in Python?\n",
        "   - An interpreter in Python is a program that reads and runs Python code line by line. It translates the code into a language the computer can understand and then executes it.\n",
        "Unlike compilers, which convert the whole program at once, Python's interpreter works step by step, making it easier to find and fix errors.\n",
        "Example: When we write print(\"Hi\"), the Python interpreter reads that line, understands it, and shows Hi on the screen.\n",
        "\n",
        "3. What are pre-defined keywords in Python?\n",
        "    - Pre-defined keywords are special words in Python that have a fixed meaning. We cannot use them as names for variables.\n",
        "Examples: if, else, for, while, True, False, def.\n",
        "These words are used to write Python programs and tell the computer what to do.\n",
        "\n",
        "4. Can keywords be used as variable names?\n",
        "   - No, we cannot use keywords as variable names in Python.\n",
        "Keywords are special words used by Python to do important tasks. If we try to use them as variable names, it will give an error.\n",
        "Example :- If = 10 # it shows error\n",
        "\n",
        "5. What is mutability in Python?\n",
        "   - Mutability means whether a value can be changed after it is created.\n",
        "If something can be changed, it is called mutable.\n",
        "If it cannot be changed, it is called immutable.\n",
        "Mutability in Python means if we can change a value or not after creating it.\n",
        "Examples:\n",
        "Mutable: List - You can change the items in a list.\n",
        "my_list = [1, 2, 3]\n",
        "my_list[0] = 10 # Value changed\n",
        "Immutable: String - You cannot change the characters in a string.\n",
        "my_str = \"hello\"\n",
        "my_str[0] = \"H\" # Value not changed\n",
        "\n",
        "6. Why are lists mutable, but tuples are immutable?\n",
        "   - Lists are mutable, which means we can change their items after creating them.\n",
        "Tuples are immutable, which means we cannot change their items once they are made.\n",
        "Python makes tuples immutable to keep them safe from changes, which is useful when we want data to stay the same.\n",
        "Example:\n",
        "List (mutable):\n",
        "my_list = [1, 2, 3]\n",
        "my_list[0] = 10  # This works\n",
        "\n",
        "Tuple (immutable):\n",
        "my_tuple = (1, 2, 3)\n",
        "my_tuple[0] = 10 # we get error\n",
        "\n",
        "7. What is the difference between “==” and “is” operators in Python?\n",
        "   - == symbol used to checks if two values are the same.\n",
        "Is checks if two variables point to the same object in memory.\n",
        "Example :-\n",
        "a = [1, 2, 3]\n",
        "b = [1, 2, 3]\n",
        "a == b  # True as values are same\n",
        "a is b  # False due to different memory locations\n",
        "a == b is True because both lists have the same values.\n",
        "a is b is False because they are two different objects.\n",
        "\n",
        "8. What are logical operators in Python?\n",
        "   - Logical operators are used to combine two or more conditions in Python. They return True or False values.\n",
        "Logical operators are used to check 2 or more conditions.\n",
        "There are 3 main logical operators:\n",
        "and – True if both conditions are true\n",
        "or – True if at least one condition is true\n",
        "not – Turns True to False, or False to True\n",
        "\n",
        "Example :-\n",
        "x = 3\n",
        "y = 5\n",
        "x < 5 and y > 3    # True\n",
        "x > 5 or y > 3      # True\n",
        "not (x < 5)         # False\n",
        "\n",
        "9. What is type casting in Python?\n",
        "   - Type casting means changing one data type into another in Python.\n",
        "x = \"5\"\n",
        "y = int(x)   # Changes string \"5\" to number 5\n",
        "\n",
        "10. What is the difference between implicit and explicit type casting?\n",
        "   - Implicit type casting is done automatically by Python.\n",
        "Explicit type casting is done manually by the programmer.\n",
        "Example:\n",
        "Implicit:\n",
        "x = 5\n",
        "y = 2.0\n",
        "z = x + y   # Python converts 5 to 5.0 automatically\n",
        "Explicit:\n",
        "x = \"10\"\n",
        "y = int(x)  # Manually converting string to integer\n",
        "\n",
        "11.What is the purpose of conditional statements in Python\n",
        "   - Conditional statements are used to make decisions in a program.\n",
        "They allow the program to do different things based on different conditions.\n",
        "Example:\n",
        "age = 20\n",
        "if age >= 18:\n",
        "    print(\"You can vote\")\n",
        "else:\n",
        "    print(\"You cannot vote\")\n",
        "\n",
        "12. How does the elif statement work?\n",
        "   - The elif statement means \"else if\".\n",
        "It lets you check many conditions, one after another.\n",
        "Example:\n",
        "x = 10\n",
        "if x > 20:\n",
        "    print(\"Greater than 20\")\n",
        "elif x > 5:\n",
        "    print(\"Greater than 5\")   \n",
        "else:\n",
        "    print(\"5 or less\")\n",
        "\n",
        "13. What is the difference between for and while loops?\n",
        "   - for loop is used when you know how many times to repeat.\n",
        "while loop is used when you don’t know exactly how many times, but you repeat until a condition is false.\n",
        "\n",
        "14. Describe a scenario where a while loop is more suitable than a for loop?\n",
        "   - A while loop is better when you don’t know how many times the loop should run.\n",
        "Example:\n",
        "Asking a user to enter the correct password:\n",
        "password = \"\"\n",
        "while password != \"ABC1234\":\n",
        "    password = input(\"Enter password: \")\n",
        "print(\"Access granted!\")"
      ],
      "metadata": {
        "id": "GEb7NH4yGXxl"
      }
    },
    {
      "cell_type": "markdown",
      "source": [
        "Practical Questions-Answer"
      ],
      "metadata": {
        "id": "HloPzcZdgNQE"
      }
    },
    {
      "cell_type": "code",
      "source": [
        "#1. Write a Python program to print \"Hello, World!y?\n",
        "print(\"Hello, World!\")"
      ],
      "metadata": {
        "colab": {
          "base_uri": "https://localhost:8080/"
        },
        "id": "XElKa508gQps",
        "outputId": "941bac82-8d2a-44d2-d241-abdc4afd5498"
      },
      "execution_count": null,
      "outputs": [
        {
          "output_type": "stream",
          "name": "stdout",
          "text": [
            "Hello, World!\n"
          ]
        }
      ]
    },
    {
      "cell_type": "code",
      "source": [
        "#2. Write a Python program that displays your name and age?\n",
        "name = input(\"Enter your name: \")\n",
        "age = input(\"Enter your age: \")\n",
        "print(\"Your name is\", name, \"and your age is\", age)"
      ],
      "metadata": {
        "colab": {
          "base_uri": "https://localhost:8080/"
        },
        "id": "LTrpaPhxgWS9",
        "outputId": "51b3aab6-c3f7-4662-b876-4ed6f4a85ad5"
      },
      "execution_count": null,
      "outputs": [
        {
          "output_type": "stream",
          "name": "stdout",
          "text": [
            "Enter your name: Ashu\n",
            "Enter your age: 22\n",
            "Your name is Ashu and your age is 22\n"
          ]
        }
      ]
    },
    {
      "cell_type": "code",
      "source": [
        "#3.  Write code to print all the pre-defined keywords in Python using the keyword library?\n",
        "import keyword\n",
        "# Print all the keywords in Python\n",
        "print(\"Python Keywords:\")\n",
        "print(keyword.kwlist)"
      ],
      "metadata": {
        "colab": {
          "base_uri": "https://localhost:8080/"
        },
        "id": "_ij7LLlyg1rZ",
        "outputId": "440ad945-db5b-4778-a14c-47d2817916c2"
      },
      "execution_count": null,
      "outputs": [
        {
          "output_type": "stream",
          "name": "stdout",
          "text": [
            "Python Keywords:\n",
            "['False', 'None', 'True', 'and', 'as', 'assert', 'async', 'await', 'break', 'class', 'continue', 'def', 'del', 'elif', 'else', 'except', 'finally', 'for', 'from', 'global', 'if', 'import', 'in', 'is', 'lambda', 'nonlocal', 'not', 'or', 'pass', 'raise', 'return', 'try', 'while', 'with', 'yield']\n"
          ]
        }
      ]
    },
    {
      "cell_type": "code",
      "source": [
        "#4. Write a program that checks if a given word is a Python key\n",
        "import keyword\n",
        "word = input(\"Enter a word: \")\n",
        "if keyword.iskeyword(word):\n",
        "    print(word, \"is a Python keyword\")\n",
        "else:\n",
        "    print(word, \"is not a Python keyword\")"
      ],
      "metadata": {
        "id": "GXWrvaR3g4QG",
        "colab": {
          "base_uri": "https://localhost:8080/"
        },
        "outputId": "1dec90f7-9f22-4e80-dc25-0b81df85c829"
      },
      "execution_count": null,
      "outputs": [
        {
          "output_type": "stream",
          "name": "stdout",
          "text": [
            "Enter a word: is\n",
            "is is a Python keyword\n"
          ]
        }
      ]
    },
    {
      "cell_type": "code",
      "source": [
        "#5. Create a list and tuple in Python, and demonstrate how attempting to change an element works differently for each.\n",
        "my_list = [10, 20, 30]\n",
        "my_tuple = (10, 20, 30)\n",
        "print(\"My list:\", my_list)\n",
        "my_list[1] = 99\n",
        "print(\"Modified list:\", my_list)\n",
        "my_tuple[1] = 99 # shows error\n",
        "print(\"My tuple:\", my_tuple)"
      ],
      "metadata": {
        "colab": {
          "base_uri": "https://localhost:8080/",
          "height": 228
        },
        "id": "9Ej9R6wZh-id",
        "outputId": "22094117-8eef-4705-9c40-24a913f468af"
      },
      "execution_count": null,
      "outputs": [
        {
          "output_type": "stream",
          "name": "stdout",
          "text": [
            "My list: [10, 20, 30]\n",
            "Modified list: [10, 99, 30]\n"
          ]
        },
        {
          "output_type": "error",
          "ename": "TypeError",
          "evalue": "'tuple' object does not support item assignment",
          "traceback": [
            "\u001b[0;31m---------------------------------------------------------------------------\u001b[0m",
            "\u001b[0;31mTypeError\u001b[0m                                 Traceback (most recent call last)",
            "\u001b[0;32m<ipython-input-13-785519e7ac51>\u001b[0m in \u001b[0;36m<cell line: 0>\u001b[0;34m()\u001b[0m\n\u001b[1;32m      5\u001b[0m \u001b[0mmy_list\u001b[0m\u001b[0;34m[\u001b[0m\u001b[0;36m1\u001b[0m\u001b[0;34m]\u001b[0m \u001b[0;34m=\u001b[0m \u001b[0;36m99\u001b[0m\u001b[0;34m\u001b[0m\u001b[0;34m\u001b[0m\u001b[0m\n\u001b[1;32m      6\u001b[0m \u001b[0mprint\u001b[0m\u001b[0;34m(\u001b[0m\u001b[0;34m\"Modified list:\"\u001b[0m\u001b[0;34m,\u001b[0m \u001b[0mmy_list\u001b[0m\u001b[0;34m)\u001b[0m\u001b[0;34m\u001b[0m\u001b[0;34m\u001b[0m\u001b[0m\n\u001b[0;32m----> 7\u001b[0;31m \u001b[0mmy_tuple\u001b[0m\u001b[0;34m[\u001b[0m\u001b[0;36m1\u001b[0m\u001b[0;34m]\u001b[0m \u001b[0;34m=\u001b[0m \u001b[0;36m99\u001b[0m\u001b[0;34m\u001b[0m\u001b[0;34m\u001b[0m\u001b[0m\n\u001b[0m\u001b[1;32m      8\u001b[0m \u001b[0mprint\u001b[0m\u001b[0;34m(\u001b[0m\u001b[0;34m\"My tuple:\"\u001b[0m\u001b[0;34m,\u001b[0m \u001b[0mmy_tuple\u001b[0m\u001b[0;34m)\u001b[0m\u001b[0;34m\u001b[0m\u001b[0;34m\u001b[0m\u001b[0m\n",
            "\u001b[0;31mTypeError\u001b[0m: 'tuple' object does not support item assignment"
          ]
        }
      ]
    },
    {
      "cell_type": "code",
      "source": [
        "#6. Write a function to demonstrate the behavior of mutable and immutable arguments\n",
        "def update_values(text, info_dict):\n",
        "    print(\"Inside function before modification:\")\n",
        "    print(\"text:\", text)\n",
        "    print(\"info_dict:\", info_dict)\n",
        "\n",
        "    # Try modifying both\n",
        "    text += \" world\"             # Strings are immutable – this creates a new string\n",
        "    info_dict[\"age\"] = 30        # Dictionaries are mutable – this updates the original\n",
        "\n",
        "    print(\"Inside function after modification:\")\n",
        "    print(\"text:\", text)\n",
        "    print(\"info_dict:\", info_dict)\n",
        "# Immutable argument\n",
        "my_text = \"Hi\"\n",
        "\n",
        "# Mutable argument\n",
        "person_info = {\"name\": \"Ayush\"}\n",
        "\n",
        "update_values(my_text, person_info)\n",
        "\n",
        "print(\"\\nOutside function after calling:\")\n",
        "print(\"my_text:\", my_text)             # Still \"Hi\"\n",
        "print(\"person_info:\", person_info)     # Modified: {'name': 'Ayush', 'age': 30}"
      ],
      "metadata": {
        "colab": {
          "base_uri": "https://localhost:8080/"
        },
        "id": "A77bwHtPkqGV",
        "outputId": "66460488-0371-48a3-f6ab-7db24ffbe2ca"
      },
      "execution_count": null,
      "outputs": [
        {
          "output_type": "stream",
          "name": "stdout",
          "text": [
            "Inside function before modification:\n",
            "text: Hi\n",
            "info_dict: {'name': 'Ayush'}\n",
            "Inside function after modification:\n",
            "text: Hi world\n",
            "info_dict: {'name': 'Ayush', 'age': 30}\n",
            "\n",
            "Outside function after calling:\n",
            "my_text: Hi\n",
            "person_info: {'name': 'Ayush', 'age': 30}\n"
          ]
        }
      ]
    },
    {
      "cell_type": "code",
      "source": [
        "#7. Write a program that performs basic arithmetic operations on two user-input numbers.\n",
        "num1 = float(input(\"Enter the 1st no.: \"))\n",
        "num2 = float(input(\"Enter the 2nd no.: \"))\n",
        "addition = num1 + num2\n",
        "subtraction = num1 - num2\n",
        "multiplication = num1 * num2\n",
        "if num2 != 0:\n",
        "    division = num1 / num2\n",
        "else:\n",
        "    division = \"Undefined (division by zero)\"\n",
        "print(\"\\nResults:\")\n",
        "print(f\"Addition: {num1} + {num2} = {addition}\")\n",
        "print(f\"Subtraction: {num1} - {num2} = {subtraction}\")\n",
        "print(f\"Multiplication: {num1} * {num2} = {multiplication}\")\n",
        "print(f\"Division: {num1} / {num2} = {division}\")"
      ],
      "metadata": {
        "colab": {
          "base_uri": "https://localhost:8080/"
        },
        "id": "7_eFx3aWmAdy",
        "outputId": "72ecc42f-0840-4a92-ea6c-a5c0aef3c14e"
      },
      "execution_count": null,
      "outputs": [
        {
          "output_type": "stream",
          "name": "stdout",
          "text": [
            "Enter the 1st no.: 53\n",
            "Enter the 2nd no.: 0\n",
            "\n",
            "Results:\n",
            "Addition: 53.0 + 0.0 = 53.0\n",
            "Subtraction: 53.0 - 0.0 = 53.0\n",
            "Multiplication: 53.0 * 0.0 = 0.0\n",
            "Division: 53.0 / 0.0 = Undefined (division by zero)\n"
          ]
        }
      ]
    },
    {
      "cell_type": "code",
      "source": [
        "#8. Write a program to demonstrate the use of logical operators.\n",
        "age = int(input(\"Enter your age: \"))\n",
        "has_ticket = input(\"Do you have a ticket? (yes/no): \").strip().lower()\n",
        "has_ticket = True if has_ticket == \"yes\" else False\n",
        "\n",
        "# Logical operations\n",
        "print(\"\\n--- Logical Operations ---\")\n",
        "if age >= 18 and has_ticket:\n",
        "    print(\"You can enter the event.\")\n",
        "else:\n",
        "    print(\"Entry denied (must be 18+ AND have a ticket).\")\n",
        "if age >= 60 or has_ticket:\n",
        "    print(\"You qualify for special assistance (60+ OR ticket holder).\")\n",
        "if not has_ticket:\n",
        "    print(\"You need to buy a ticket.\")"
      ],
      "metadata": {
        "colab": {
          "base_uri": "https://localhost:8080/"
        },
        "id": "f5z1RuM_v7RH",
        "outputId": "237c1c76-83a2-4163-e847-9f7ce36111a0"
      },
      "execution_count": null,
      "outputs": [
        {
          "output_type": "stream",
          "name": "stdout",
          "text": [
            "Enter your age: 23\n",
            "Do you have a ticket? (yes/no): yes\n",
            "\n",
            "--- Logical Operations ---\n",
            "You can enter the event.\n",
            "You qualify for special assistance (60+ OR ticket holder).\n"
          ]
        }
      ]
    },
    {
      "cell_type": "code",
      "source": [
        "#9. Write a Python program to convert user input from string to integer, float, and boolean types.\n",
        "user_input = input(\"Enter: \")\n",
        "# Convert to int\n",
        "try:\n",
        "    int_value = int(user_input)\n",
        "    print(\"Integer:\", int_value)\n",
        "except ValueError:\n",
        "    print(\"Cannot convert to Integer\")\n",
        "# Convert to float\n",
        "try:\n",
        "    float_value = float(user_input)\n",
        "    print(\"Float:\", float_value)\n",
        "except ValueError:\n",
        "    print(\"Cannot convert to Float\")\n",
        "# Convert to boolean\n",
        "bool_value = bool(user_input)\n",
        "print(\"Boolean:\", bool_value)"
      ],
      "metadata": {
        "id": "FY5pm3Z01s-z"
      },
      "execution_count": null,
      "outputs": []
    },
    {
      "cell_type": "code",
      "source": [
        "#10. Write code to demonstrate type casting with list elements.\n",
        "str_list = ['1', '2', '3', '4']\n",
        "\n",
        "# Convert all to integers\n",
        "int_list = [int(x) for x in str_list]\n",
        "print(\"Integer list:\", int_list)\n",
        "\n",
        "# Convert to float\n",
        "float_list = [float(x) for x in str_list]\n",
        "print(\"Float list:\", float_list)"
      ],
      "metadata": {
        "id": "9BNC4a7Xfl4j"
      },
      "execution_count": null,
      "outputs": []
    },
    {
      "cell_type": "code",
      "source": [
        "#11. Write a program that checks if a number is positive, negative, or zero.\n",
        "num = float(input(\"Enter a number: \"))\n",
        "if num > 0:\n",
        "    print(\"The number is positive.\")\n",
        "elif num < 0:\n",
        "    print(\"The number is negative.\")\n",
        "else:\n",
        "    print(\"The number is zero.\")"
      ],
      "metadata": {
        "id": "NOPycBZQfsOK"
      },
      "execution_count": null,
      "outputs": []
    },
    {
      "cell_type": "code",
      "source": [
        "#12. Write a for loop to print numbers from 1 to 10.\n",
        "for i in range(1, 11):\n",
        "    print(i)"
      ],
      "metadata": {
        "id": "1Lb78owof5sr"
      },
      "execution_count": null,
      "outputs": []
    },
    {
      "cell_type": "code",
      "source": [
        "#13. Write a Python program to find the sum of all even numbers between 1 and 50.\n",
        "sum_even = 0\n",
        "for number in range(1, 51):\n",
        "  if number % 2 == 0:\n",
        "    sum_even += number\n",
        "print(\"Sum of even numbers from 1 to 50:\", sum_even)"
      ],
      "metadata": {
        "id": "CijqVuKqgAVg",
        "colab": {
          "base_uri": "https://localhost:8080/"
        },
        "outputId": "d5788479-2f67-4e9c-b6d2-06fbe2e19c6a"
      },
      "execution_count": 2,
      "outputs": [
        {
          "output_type": "stream",
          "name": "stdout",
          "text": [
            "Sum of even numbers from 1 to 50: 650\n"
          ]
        }
      ]
    },
    {
      "cell_type": "code",
      "source": [
        "#14. Write a program to reverse a string using a while loop.\n",
        "text = \"Hello i am Ashu\"\n",
        "rev_text = \"\"\n",
        "index = len(text) - 1\n",
        "while index >= 0:\n",
        "    rev_text += text[index]\n",
        "    index -= 1\n",
        "print(\"Reversed string:\", rev_text)"
      ],
      "metadata": {
        "colab": {
          "base_uri": "https://localhost:8080/"
        },
        "id": "VxiNV34AKX18",
        "outputId": "861b2a02-c0d8-4824-bb82-486c7c9db89b"
      },
      "execution_count": 3,
      "outputs": [
        {
          "output_type": "stream",
          "name": "stdout",
          "text": [
            "Reversed string: uhsA ma i olleH\n"
          ]
        }
      ]
    },
    {
      "cell_type": "code",
      "source": [
        " #15. Write a Python program to calculate the factorial of a number provided by the user using a while loop.\n",
        "num = int(input(\"Enter a number: \"))\n",
        "factorial = 1\n",
        "i = 1\n",
        "while i <= num:\n",
        "    factorial *= i\n",
        "    i += 1\n",
        "print(f\"Factorial of {num} is: {factorial}\")"
      ],
      "metadata": {
        "colab": {
          "base_uri": "https://localhost:8080/"
        },
        "id": "QbTUS2FjKyiZ",
        "outputId": "d83e1679-d27d-460c-f93b-4fe880754007"
      },
      "execution_count": 7,
      "outputs": [
        {
          "output_type": "stream",
          "name": "stdout",
          "text": [
            "Enter a number: 5\n",
            "Factorial of 5 is: 120\n"
          ]
        }
      ]
    }
  ]
}